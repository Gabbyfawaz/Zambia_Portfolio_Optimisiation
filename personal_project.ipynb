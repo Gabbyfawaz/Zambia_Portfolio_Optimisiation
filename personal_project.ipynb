{
 "cells": [
  {
   "cell_type": "markdown",
   "id": "b2081c9a",
   "metadata": {},
   "source": [
    "# Investigating the Best Strategy for Portfolio Optimisation as a Zambia Citizen \n",
    "\n",
    "\n",
    "This project investigates optimal investment strategies for Zambian citizens facing unique economic challenges including high inflation and currency volatility. Using Monte Carlo simulation and modern portfolio theory, it analyzes four distinct asset classes to determine the best risk-adjusted portfolio allocation for Zambian investors.\n",
    "\n",
    "Portfolio management, to me, is about turning uncertainty into disciplined decisions: diversify across global assets, respect tail risk, and measure costs honestly. "
   ]
  },
  {
   "cell_type": "markdown",
   "id": "aa26d79c",
   "metadata": {},
   "source": [
    "## Project Overview\n",
    "\n",
    "This project seeks to answer: What is the optimal global asset allocation strategy for Zambian investors to maximize risk-adjusted returns while mitigating local economic risks?\n"
   ]
  },
  {
   "cell_type": "markdown",
   "id": "ece67272",
   "metadata": {},
   "source": [
    "\n",
    "## Methodology\n",
    "\n",
    "Data Collection: Collected 10 years of historical data (2015-2025) using Yahoo Finance API\n",
    "\n",
    "Four asset classes:\n",
    "\n",
    "- ZMW/USD exchange rate (ZMW=X)\n",
    "- Copper futures (HG=F) - relevant to Zambia's copper-dependent economy\n",
    "- S&P 500 index (^GSPC) - global equity exposure\n",
    "- Gold futures (GC=F) - safe haven asset\n",
    "\n",
    "\n",
    "I have choosen 4 distinct categories - ones that relate to zambia Inflation and commodity cycles and two that are independent of Zambia's Inflation and commodity cycles. To test whether it is better to invest in assets outside my home country.\n",
    "\n"
   ]
  },
  {
   "cell_type": "code",
   "execution_count": null,
   "id": "72d44a75",
   "metadata": {},
   "outputs": [],
   "source": [
    "# Import Libraries \n",
    "import pandas as pd\n",
    "import numpy as np\n",
    "import matplotlib.pyplot as plt \n",
    "import yfinance as yf\n",
    "from scipy.optimize import minimize"
   ]
  },
  {
   "cell_type": "code",
   "execution_count": null,
   "id": "00d4d578",
   "metadata": {},
   "outputs": [],
   "source": [
    "tickers = [\n",
    "    \"ZMW=X\",\n",
    "    \"HG=F\", # Copper futures (reseach what futures are)\n",
    "    \"^GSPC\", # S&P 500\n",
    "    \"GC=F\"   # Gold futures \n",
    "]\n",
    "\n",
    "\n"
   ]
  },
  {
   "cell_type": "code",
   "execution_count": null,
   "id": "310a1825",
   "metadata": {},
   "outputs": [],
   "source": [
    "#  Download 10 years of daily data till date\n",
    "\n",
    "data = yf.download(tickers, start=\"2015-01-01\", end=\"2025-08-01\")[\"Close\"]\n",
    "\n",
    "# Clean the data , remove null and missing data\n",
    "\n",
    "data = data.dropna()\n",
    "print(data.head())"
   ]
  },
  {
   "cell_type": "markdown",
   "id": "2f717b8e",
   "metadata": {},
   "source": [
    "\n",
    "## How do we quantify a good investment?  \n",
    "\n",
    "In finance there are several ways to go about `measuring risk`. In this project, I will use  the `Sharpe Ratio`. \n",
    "\n",
    "**Sharpe Ratio**:  is defined as the measure of risk-adjusted returns \n",
    "Risk-Adjusted Performance Metric\n",
    "The primary measure for evaluating investment performance in this analysis is the risk-adjusted return metric, calculated as follows:\n",
    "\n",
    "`Performance Measure = E[P − B] / D`\n",
    "\n",
    "**In this formulation**:\n",
    "\n",
    "- P represents the total return of the investment portfolio\n",
    "- B denotes the baseline return of a risk-free security\n",
    "- D signifies the variability of the portfolio's returns above the baseline\n",
    "\n",
    "**Portfolio Return Calculation**\n",
    "The overall portfolio return is determined by combining individual asset returns using this approach:\n",
    "\n",
    "`Total Return = (s₁ × a₁) + (s₂ × a₂) + ... + (sₙ × aₙ)`\n",
    "\n",
    "Where for each investment component:\n",
    "\n",
    "- a indicates the periodic return of each asset\n",
    "- s represents the proportional allocation to each asset\n",
    "\n",
    "**Portfolio Volatility Measurement**\n",
    "\n",
    "The overall portfolio variability is computed considering individual asset risks and their interrelationships:\n",
    "\n",
    "`Overall Variability = √[ (s₁²v₁²) + (s₂²v₂²) + (2s₁s₂c₁₂v₁v₂) + ... ]`\n",
    "\n",
    "Where:\n",
    "\n",
    "v represents the individual volatility of each asset's returns\n",
    "s indicates the allocation percentage for each asset\n",
    "c measures the co-movement between different asset pairs\n",
    "\n",
    "\n",
    "Based on the foundational work of William Sharpe regarding risk-adjusted performance measurement\n",
    "\n",
    "Reference: https://web.stanford.edu/~wfsharpe/art/sr/sr.htm\n"
   ]
  },
  {
   "cell_type": "code",
   "execution_count": null,
   "id": "f91f46d7",
   "metadata": {},
   "outputs": [],
   "source": [
    "# ----------------------\n",
    "# PROCESSING THE DATA \n",
    "# ----------------------\n",
    "\n",
    "returns = data.pct_change().dropna() # daily percentage returns \n",
    "mean_returns = returns.mean() * 252 # annulised average returns \n",
    "covariance_matrix = returns.cov() * 252 # annulised covariance between tickers \n",
    "\n",
    "print(f\"Mean Returns: {mean_returns}\")\n",
    "print(f\"Covariance Matrix: {covariance_matrix}\")"
   ]
  },
  {
   "cell_type": "markdown",
   "id": "55604ffa",
   "metadata": {},
   "source": [
    "## WHY USE MONTE CARLO FOR PORTFOLIO OPTIMISATION\n",
    "\n",
    "Monte carlo is a numerical method used to appoximate solution through random modeling. \n",
    "\n",
    " Monte carlo is an appropriate tool to use for portfolio optimisation as it is able to capture `uncertainity and variablity` that are inherent in financial markets. \n",
    "\n",
    "In Finance, Monte carlo generates thousands of possible future events by randomly sampling from the portfolio return distribution which allows investors to study the distribution outcome rather single-point estimation\n",
    "\n"
   ]
  },
  {
   "cell_type": "code",
   "execution_count": null,
   "id": "4ea9ad5d",
   "metadata": {},
   "outputs": [],
   "source": [
    "# --------------------\n",
    "# Monte Carlo Simulation\n",
    "# --------------------\n",
    "\n",
    "number_of_portfolios = 10000\n",
    "results_matrix = np.zeros((3, number_of_portfolios)) # return, volatility, Sharpe ratio \n",
    "weights_array = []\n",
    "risk_free_rate = .1952\n",
    "\n",
    "for i in range(number_of_portfolios): \n",
    "    weights = np.random.random(len(tickers))\n",
    "    weights /= sum(weights)\n",
    "    weights_array.append(weights)\n",
    "\n",
    "    portfolio_returns = np.dot(weights,mean_returns)\n",
    "    portfolio_volatility = np.sqrt(np.dot(weights.T, np.dot(covariance_matrix, weights)))\n",
    "\n",
    "    #The yield on Zambia Government Bond 10y held steady at 19.52% on August 22, 2025.\n",
    "    sharpe_ratio = (portfolio_returns - risk_free_rate)/portfolio_volatility\n",
    "\n",
    "    results_matrix[0,i] = portfolio_returns\n",
    "    results_matrix[1,i] = portfolio_volatility\n",
    "    results_matrix[2, i] = sharpe_ratio\n"
   ]
  },
  {
   "cell_type": "markdown",
   "id": "1a4f1eff",
   "metadata": {},
   "source": [
    "\n",
    "## GRAPHICAL REPRESENTATION\n",
    "\n"
   ]
  },
  {
   "cell_type": "code",
   "execution_count": null,
   "id": "96a8d193",
   "metadata": {},
   "outputs": [],
   "source": [
    "\n",
    "plt.figure(figsize=(10,6))\n",
    "plt.scatter(x=results_matrix[1,:],y=results_matrix[0,:], c=results_matrix[2,:], cmap='viridis', s=10)\n",
    "plt.colorbar(label=\"Sharpe Ratio\")\n",
    "plt.xlabel(\"Volatility\")\n",
    "plt.ylabel(\"Expected Return\")\n",
    "plt.title(\"Monte Carlo Porfolio Optimisation - Focused On Zambia\")\n",
    "max_sharpe_index = np.argmax(results_matrix[2])\n",
    "plt.scatter(results_matrix[1,max_sharpe_index], results_matrix[0,max_sharpe_index], c=\"red\", s=50, marker='*', label= \"Max Sharpe\")\n",
    "plt.legend()\n",
    "plt.show()"
   ]
  },
  {
   "cell_type": "markdown",
   "id": "6c6eec51",
   "metadata": {},
   "source": [
    "## MOST FAVORABLE WEIGHTS"
   ]
  },
  {
   "cell_type": "code",
   "execution_count": null,
   "id": "3bf66ae6",
   "metadata": {},
   "outputs": [],
   "source": [
    "\n",
    "weights_df = pd.DataFrame(weights_array, columns=tickers)\n",
    "best_weights= weights_df.iloc[max_sharpe_index]\n",
    "print(\"Best Portfolio Weights:\")\n",
    "print(best_weights)\n"
   ]
  },
  {
   "cell_type": "markdown",
   "id": "473c05b3",
   "metadata": {},
   "source": [
    "## Portfolio Optimization with SLSQP\n",
    "\n",
    "We use constrained numerical optimization (SLSQP algorithm) to precisely identify the maximum Sharpe ratio portfolio. This method is fundamentally different from Monte Carlo simulation:\n",
    "\n",
    "**Key Advantages**:\n",
    "- Precision: Finds the exact mathematical optimum rather than approximating through random sampling\n",
    "- Efficiency: Requires significantly fewer computations than Monte Carlo methods\n",
    "- Constraint Handling: Systematically incorporates investment constraints (no short selling, full allocation)\n",
    "\n",
    "**How It Works**:\n",
    "\n",
    "1. We maximize the Sharpe ratio by minimizing its negative value\n",
    "2. The algorithm calculates gradients to efficiently navigate the solution space\n",
    "3. It enforces that all weights sum to 1 and remain between 0-1\n",
    "4. The process converges to the optimal risk-adjusted portfolio\n",
    "\n",
    "This approach delivers the exact optimal asset allocation that maximizes risk-adjusted returns given the specified constraints and market assumptions.\n"
   ]
  },
  {
   "cell_type": "code",
   "execution_count": null,
   "id": "e5b0672e",
   "metadata": {},
   "outputs": [],
   "source": [
    "# Functions \n",
    "\n",
    "def portfolio_performance(weights, mean_return, covariance_matrix, risk_free_rate): \n",
    "    op_portfolio_returns = np.dot(weights, mean_return)\n",
    "    op_portfolio_volatility = np.sqrt(np.dot(weights.T, np.dot(covariance_matrix, weights)))\n",
    "    op_sharpe_ratio = (op_portfolio_returns - risk_free_rate) / op_portfolio_volatility\n",
    "\n",
    "    return op_portfolio_returns, op_portfolio_volatility, op_sharpe_ratio\n",
    "\n",
    "def negative_sharpe_ratio(weights, mean_return, covariance_matrix, risk_free_rate): \n",
    "    return -portfolio_performance(weights, mean_return, covariance_matrix, risk_free_rate)[2]\n",
    "\n",
    "def portfolio_volatility(weights, mean_return, covariance_matrix, risk_free_rate): \n",
    "    return portfolio_performance(weights, mean_return, covariance_matrix, risk_free_rate)[1]\n",
    "\n",
    "# weights must sum to 1 \n",
    "constraints = ({'type':'eq', 'fun': lambda x: np.sum(x)-1})\n",
    "\n",
    "# weights must be between 0 to 1 \n",
    "bounds = tuple((0,1) for _ in range(len(tickers)))\n",
    "initial_guess = len(tickers) * [1./len(tickers)]"
   ]
  },
  {
   "cell_type": "code",
   "execution_count": null,
   "id": "314cfa9f",
   "metadata": {},
   "outputs": [],
   "source": [
    "\n",
    "# Optimize for Max Sharpe Ratio\n",
    "\n",
    "max_shape_ratio = minimize(negative_sharpe_ratio, initial_guess, \n",
    "                           args=(mean_returns, covariance_matrix, risk_free_rate),\n",
    "                            method='SLSQP', bounds=bounds, constraints=constraints)\n",
    "\n",
    "op_sharpe_return, op_sharpe_volalitlity, op_sharpe_ratio = portfolio_performance(max_shape_ratio.x, mean_returns, covariance_matrix, risk_free_rate)\n",
    "\n",
    "print(\"Max Sharpe Ratio Portfolio:\")\n",
    "print(\"Weights:\\n\", dict(zip(tickers, max_shape_ratio.x)))\n",
    "print(\"Return:\\n\", op_sharpe_return)\n",
    "print(\"Volatility:\\n\", op_sharpe_volalitlity)\n",
    "print(\"Sharpe Ratio:\\n\", op_sharpe_ratio)"
   ]
  }
 ],
 "metadata": {
  "kernelspec": {
   "display_name": ".venv",
   "language": "python",
   "name": "python3"
  },
  "language_info": {
   "codemirror_mode": {
    "name": "ipython",
    "version": 3
   },
   "file_extension": ".py",
   "mimetype": "text/x-python",
   "name": "python",
   "nbconvert_exporter": "python",
   "pygments_lexer": "ipython3",
   "version": "3.13.7"
  }
 },
 "nbformat": 4,
 "nbformat_minor": 5
}
